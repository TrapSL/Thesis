{
 "cells": [
  {
   "cell_type": "code",
   "execution_count": null,
   "metadata": {},
   "outputs": [],
   "source": []
  },
  {
   "cell_type": "code",
   "execution_count": 1,
   "metadata": {},
   "outputs": [
    {
     "name": "stdout",
     "output_type": "stream",
     "text": [
      "Minimum cost path: 7\n"
     ]
    }
   ],
   "source": [
    "def minCostPath(cost):\n",
    "    rows = len(cost)\n",
    "    cols = len(cost[0])\n",
    "\n",
    "    # Create a 2D grid to store the cumulative minimum costs\n",
    "    dp = [[0] * cols for _ in range(rows)]\n",
    "\n",
    "    # Fill in the minimum costs for the first row\n",
    "    dp[0][0] = cost[0][0]\n",
    "    for j in range(1, cols):\n",
    "        dp[0][j] = dp[0][j - 1] + cost[0][j]\n",
    "\n",
    "    # Fill in the minimum costs for the first column\n",
    "    for i in range(1, rows):\n",
    "        dp[i][0] = dp[i - 1][0] + cost[i][0]\n",
    "\n",
    "    # Compute the minimum costs for each cell\n",
    "    for i in range(1, rows):\n",
    "        for j in range(1, cols):\n",
    "            dp[i][j] = cost[i][j] + min(dp[i - 1][j], dp[i][j - 1])\n",
    "\n",
    "    return dp[rows - 1][cols - 1]\n",
    "\n",
    "\n",
    "cost = [\n",
    "    [1, 3, 1],\n",
    "    [2, 5, 1],\n",
    "    [4, 2, 1]\n",
    "]\n",
    "min_cost = minCostPath(cost)\n",
    "print(\"Minimum cost path:\", min_cost)"
   ]
  },
  {
   "cell_type": "markdown",
   "metadata": {},
   "source": []
  },
  {
   "cell_type": "code",
   "execution_count": 2,
   "metadata": {},
   "outputs": [
    {
     "name": "stdout",
     "output_type": "stream",
     "text": [
      "Number of ways to reach: 2\n"
     ]
    }
   ],
   "source": [
    "def numWays(m, n, directions):\n",
    "    # Create a 2D grid to store the number of ways to reach each position\n",
    "    dp = [[0] * (n + 1) for _ in range(m + 1)]\n",
    "\n",
    "    # Set the base case for the starting position\n",
    "    dp[0][0] = 1\n",
    "\n",
    "    # Compute the number of ways for each position\n",
    "    for i in range(m + 1):\n",
    "        for j in range(n + 1):\n",
    "            if i == 0 and j == 0:\n",
    "                continue\n",
    "            if (i, j) in directions:\n",
    "                continue\n",
    "            dp[i][j] = dp[i - 1][j] + dp[i][j - 1]\n",
    "\n",
    "    return dp[m][n]\n",
    "\n",
    "m = 3\n",
    "n = 3\n",
    "directions = {(1, 2), (2, 1)}\n",
    "num_ways = numWays(m, n, directions)\n",
    "print(\"Number of ways to reach:\", num_ways)"
   ]
  },
  {
   "cell_type": "markdown",
   "metadata": {},
   "source": []
  },
  {
   "cell_type": "code",
   "execution_count": 3,
   "metadata": {},
   "outputs": [
    {
     "name": "stdout",
     "output_type": "stream",
     "text": [
      "Number of ways to reach the target: 2\n"
     ]
    }
   ],
   "source": [
    "def numWays(grid, start, end):\n",
    "    rows = len(grid)\n",
    "    cols = len(grid[0])\n",
    "\n",
    "    # Create a 2D grid to store the number of ways to reach each position\n",
    "    dp = [[0] * cols for _ in range(rows)]\n",
    "\n",
    "    # Set the base case for the starting position\n",
    "    dp[start[0]][start[1]] = 1\n",
    "\n",
    "    # Compute the number of ways for each position\n",
    "    for i in range(start[0], end[0] + 1):\n",
    "        for j in range(start[1], end[1] + 1):\n",
    "            if grid[i][j] == 1:\n",
    "                continue\n",
    "            if i > start[0]:\n",
    "                dp[i][j] += dp[i - 1][j]\n",
    "            if j > start[1]:\n",
    "                dp[i][j] += dp[i][j - 1]\n",
    "\n",
    "    return dp[end[0]][end[1]]\n",
    "\n",
    "grid = [\n",
    "    [0, 0, 0],\n",
    "    [0, 1, 0],\n",
    "    [0, 0, 0]\n",
    "]\n",
    "start = (0, 0)\n",
    "end = (2, 2)\n",
    "num_ways = numWays(grid, start, end)\n",
    "print(\"Number of ways to reach the target:\", num_ways)"
   ]
  },
  {
   "attachments": {},
   "cell_type": "markdown",
   "metadata": {},
   "source": [
    "# Edit distance"
   ]
  },
  {
   "cell_type": "code",
   "execution_count": 4,
   "metadata": {},
   "outputs": [
    {
     "name": "stdout",
     "output_type": "stream",
     "text": [
      "Minimum number of operations: 3\n"
     ]
    }
   ],
   "source": [
    "def minDistance(word1, word2):\n",
    "    m = len(word1)\n",
    "    n = len(word2)\n",
    "\n",
    "    # Create a 2D grid to store the minimum edit distances\n",
    "    dp = [[0] * (n + 1) for _ in range(m + 1)]\n",
    "\n",
    "    # Initialize the base cases for empty strings\n",
    "    for i in range(m + 1):\n",
    "        dp[i][0] = i\n",
    "    for j in range(n + 1):\n",
    "        dp[0][j] = j\n",
    "\n",
    "    # Compute the minimum edit distances for each position\n",
    "    for i in range(1, m + 1):\n",
    "        for j in range(1, n + 1):\n",
    "            if word1[i - 1] == word2[j - 1]:\n",
    "                dp[i][j] = dp[i - 1][j - 1]\n",
    "            else:\n",
    "                dp[i][j] = 1 + min(dp[i - 1][j - 1], dp[i - 1][j], dp[i][j - 1])\n",
    "\n",
    "    return dp[m][n]\n",
    "\n",
    "\n",
    "word1 = \"horse\"\n",
    "word2 = \"ros\"\n",
    "min_ops = minDistance(word1, word2)\n",
    "print(\"Minimum number of operations:\", min_ops)"
   ]
  }
 ],
 "metadata": {
  "kernelspec": {
   "display_name": "Python 3",
   "language": "python",
   "name": "python3"
  },
  "language_info": {
   "codemirror_mode": {
    "name": "ipython",
    "version": 3
   },
   "file_extension": ".py",
   "mimetype": "text/x-python",
   "name": "python",
   "nbconvert_exporter": "python",
   "pygments_lexer": "ipython3",
   "version": "3.11.1"
  },
  "orig_nbformat": 4
 },
 "nbformat": 4,
 "nbformat_minor": 2
}
