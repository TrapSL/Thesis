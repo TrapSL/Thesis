{
 "cells": [
  {
   "cell_type": "code",
   "execution_count": 5,
   "metadata": {},
   "outputs": [
    {
     "name": "stdout",
     "output_type": "stream",
     "text": [
      "2.12.0\n"
     ]
    }
   ],
   "source": [
    "import tensorflow as tf\n",
    "print(tf.__version__)"
   ]
  },
  {
   "cell_type": "code",
   "execution_count": 5,
   "metadata": {},
   "outputs": [],
   "source": [
    "import numpy as np\n",
    "import gym\n",
    "from gym import spaces\n",
    "\n",
    "def winprob(a):\n",
    "    return 1/(1+np.exp(-3+3*a))\n",
    "\n",
    "def stateTransition(s, win, lead, distance): \n",
    "    if win:\n",
    "        return lead + 2 * distance\n",
    "    return max(s - 1, 0)\n",
    "\n",
    "class ShippingEnv(gym.Env):\n",
    "    def __init__(self):\n",
    "        super(ShippingEnv, self).__init__()\n",
    "\n",
    "        self.lead = 15\n",
    "        self.distance = 20\n",
    "        self.w = 100\n",
    "        self.T = 1000\n",
    "        self.Arrivalprob = 0.3\n",
    "        self.actions = np.linspace(0.5, 2, 20)\n",
    "\n",
    "        self.observation_space = spaces.Discrete(self.lead + 2 * self.distance + 1)\n",
    "        self.action_space = spaces.Discrete(len(self.actions))\n",
    "\n",
    "        self.state = self.observation_space.sample()\n",
    "        self.time = 0\n",
    "\n",
    "    def step(self, action):\n",
    "        assert self.action_space.contains(action)\n",
    "\n",
    "        self.time += 1\n",
    "\n",
    "        offer_received = np.random.rand() < self.Arrivalprob\n",
    "        win = np.random.rand() < winprob(self.actions[action])\n",
    "\n",
    "        # If an offer is received, and the agent accepts it (action > 0), calculate reward and update state\n",
    "        if offer_received and action > 0:\n",
    "            self.state = stateTransition(self.state, win, self.lead, self.distance)\n",
    "            reward = win * self.actions[action] * self.w\n",
    "        else:\n",
    "            self.state = max(self.state - 1, 0)\n",
    "            reward = 0\n",
    "\n",
    "        done = self.time == self.T\n",
    "\n",
    "        return np.array(self.state).reshape((1, 1)), reward, done, {}\n",
    "\n",
    "    def reset(self):\n",
    "        self.state = self.observation_space.sample()\n",
    "        self.time = 0\n",
    "        return np.array(self.state).reshape((1, 1))"
   ]
  }
 ],
 "metadata": {
  "kernelspec": {
   "display_name": "Python 3",
   "language": "python",
   "name": "python3"
  },
  "language_info": {
   "codemirror_mode": {
    "name": "ipython",
    "version": 3
   },
   "file_extension": ".py",
   "mimetype": "text/x-python",
   "name": "python",
   "nbconvert_exporter": "python",
   "pygments_lexer": "ipython3",
   "version": "3.11.1"
  },
  "orig_nbformat": 4
 },
 "nbformat": 4,
 "nbformat_minor": 2
}
