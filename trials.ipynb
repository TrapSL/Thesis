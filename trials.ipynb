{
 "cells": [
  {
   "cell_type": "code",
   "execution_count": 1,
   "metadata": {},
   "outputs": [
    {
     "name": "stdout",
     "output_type": "stream",
     "text": [
      "840\n"
     ]
    }
   ],
   "source": [
    "#fixed ws\n",
    "def solve_dp():\n",
    "    T = 365\n",
    "    WS = 120 # Assume WS varies from 80 to 120\n",
    "    dp = [[[0 for _ in range(WS+1)] for _ in range(T+1)] for _ in range(T+1)]\n",
    "    new_ws_up = lambda ws: min(WS, ws+1) # new WS if it's going up\n",
    "    new_ws_down = lambda ws: max(80, ws-1) # new WS if it's going down\n",
    "\n",
    "    for day in reversed(range(T)): # From day 364 to 0\n",
    "        for lead_time in reversed(range(T-day+1)): # From T-day to 0\n",
    "            for ws in range(80, WS+1): # From 80 to WS\n",
    "                if lead_time == 0: # Ship is in port\n",
    "                    # Assume job_profit = ws\n",
    "                    dp[day][lead_time][ws] = max(\n",
    "                        ws + dp[day+25][25][new_ws_down(ws)] if day+25 < T else 0,\n",
    "                        dp[day+1][0][new_ws_up(ws)] if day+1 < T else 0\n",
    "                    )\n",
    "                else: # Ship is not in port\n",
    "                    dp[day][lead_time][ws] = dp[day+1][lead_time-1][new_ws_up(ws)] if day+1 < T else 0\n",
    "\n",
    "    return dp[0][0][100] # Start at day 0, in port, with WS=100\n",
    "\n",
    "print(solve_dp())"
   ]
  },
  {
   "cell_type": "code",
   "execution_count": 1,
   "metadata": {},
   "outputs": [
    {
     "name": "stdout",
     "output_type": "stream",
     "text": [
      "110\n"
     ]
    }
   ],
   "source": [
    "def max_profit(offers, lead_time=0, max_days=365, trip_time=25):\n",
    "    # Sort offers by day\n",
    "    offers.sort()\n",
    "    \n",
    "    # Initialize DP table\n",
    "    dp = [[0]*(max_days+trip_time+1) for _ in range(max_days+1)]\n",
    "    \n",
    "    # Index for current offer\n",
    "    idx_offer = 0\n",
    "    \n",
    "    for i in range(max_days-1, -1, -1):\n",
    "        for j in range(max_days+trip_time, -1, -1):\n",
    "            # If ship is in transit, it can't do anything but move\n",
    "            if j > 0:\n",
    "                dp[i][j] = dp[i+1][j-1]\n",
    "            else:\n",
    "                # If the ship is at port, it can either wait or take an offer\n",
    "                dp[i][j] = dp[i+1][j]\n",
    "                # If there is an offer available\n",
    "                if idx_offer < len(offers) and offers[idx_offer][0] == i:\n",
    "                    # Take offer: get profit and move ship\n",
    "                    dp[i][j] = max(dp[i][j], offers[idx_offer][1] + dp[i+trip_time*2][lead_time])\n",
    "                    idx_offer += 1\n",
    "    return dp[0][lead_time]\n",
    "\n",
    "offers = [(0, 110), (10, 95), (30, 100), (60, 105), (90, 115), (120, 98), (150, 110), (180, 97), (210, 102), (240, 113), (270, 95), (300, 109), (330, 98)]\n",
    "print(max_profit(offers))"
   ]
  }
 ],
 "metadata": {
  "kernelspec": {
   "display_name": "Python 3",
   "language": "python",
   "name": "python3"
  },
  "language_info": {
   "codemirror_mode": {
    "name": "ipython",
    "version": 3
   },
   "file_extension": ".py",
   "mimetype": "text/x-python",
   "name": "python",
   "nbconvert_exporter": "python",
   "pygments_lexer": "ipython3",
   "version": "3.11.1"
  },
  "orig_nbformat": 4
 },
 "nbformat": 4,
 "nbformat_minor": 2
}
