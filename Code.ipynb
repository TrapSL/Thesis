{
 "cells": [
  {
   "cell_type": "code",
   "execution_count": 3,
   "metadata": {},
   "outputs": [
    {
     "data": {
      "text/plain": [
       "[<matplotlib.lines.Line2D at 0x15ef66c7950>]"
      ]
     },
     "execution_count": 3,
     "metadata": {},
     "output_type": "execute_result"
    },
    {
     "data": {
      "image/png": "[encoded data removed]",
      "text/plain": [
       "<Figure size 640x480 with 1 Axes>"
      ]
     },
     "metadata": {},
     "output_type": "display_data"
    }
   ],
   "source": [
    "import numpy as np\n",
    "import matplotlib.pyplot as plt\n",
    "def winprob(a):\n",
    "    return 1/(1+np.exp(-3+3*a))\n",
    "\n",
    "def stateTransition(s,win): #s,w,win,up/down\n",
    "    if win:\n",
    "        return lead+2*distance\n",
    "    return max(s-1,0)\n",
    "\n",
    "w=100  #fixed for now, or else must go to state\n",
    "T=1000\n",
    "lead=15 #fixed for now, or else when generating a project, generate random leads.\n",
    "Arrivalprob=0.3 #i can also randomize it\n",
    "distance=20\n",
    "actions=np.linspace(0.5,2,20)\n",
    "\n",
    "States=np.arange(lead+2*distance+1)\n",
    "V={} #value function of (t,s)  :time period, state (later state will also have w)\n",
    "P={} #policy    (later state will also have w )\n",
    "\n",
    "for s in States:\n",
    "    V[(T,s)]=0\n",
    "\n",
    "for t in range(T-1,-1,-1):\n",
    "    for s in States:        \n",
    "        bestvalue=0\n",
    "        if s>lead: #not eligible to bid\n",
    "            V[(t,s)]=V[(t+1,stateTransition(s,0))]\n",
    "            P[(t,s)]=0\n",
    "            continue\n",
    "        for a in actions:\n",
    "            #expected opportunity cost in the presense of w that will randomly change\n",
    "            opportunityCost=V[(t+1,stateTransition(s,0))]-V[(t+1,stateTransition(s,1))]\n",
    "            value=V[(t+1,stateTransition(s,0))]+Arrivalprob*winprob(a)*(a*w-opportunityCost)\n",
    "            #instead of value compute expected value, e.g., average over all possible W_{t+1}\n",
    "            if value>=bestvalue:\n",
    "                bestvalue=value\n",
    "                V[t,s]=value\n",
    "                P[t,s]=a\n",
    "        \n",
    "\n",
    "\n",
    "ts=np.arange(0,1000)\n",
    "plt.plot(States,[P[10,s] for s in States])\n"
   ]
  },
  {
   "cell_type": "code",
   "execution_count": 8,
   "metadata": {},
   "outputs": [
    {
     "data": {
      "text/plain": [
       "array([0.5       , 0.57894737, 0.65789474, 0.73684211, 0.81578947,\n",
       "       0.89473684, 0.97368421, 1.05263158, 1.13157895, 1.21052632,\n",
       "       1.28947368, 1.36842105, 1.44736842, 1.52631579, 1.60526316,\n",
       "       1.68421053, 1.76315789, 1.84210526, 1.92105263, 2.        ])"
      ]
     },
     "execution_count": 8,
     "metadata": {},
     "output_type": "execute_result"
    }
   ],
   "source": [
    "actions"
   ]
  },
  {
   "attachments": {},
   "cell_type": "markdown",
   "metadata": {},
   "source": [
    "# Base Code"
   ]
  },
  {
   "attachments": {},
   "cell_type": "markdown",
   "metadata": {},
   "source": [
    "## W can increment only with steps of 1"
   ]
  },
  {
   "cell_type": "code",
   "execution_count": 12,
   "metadata": {},
   "outputs": [],
   "source": [
    "import numpy as np\n",
    "\n",
    "def winprob(a):\n",
    "    return 1/(1+np.exp(-3+3*a))\n",
    "\n",
    "def stateTransition(s, win, w, distance): \n",
    "    if win:\n",
    "        return lead + 2*distance\n",
    "    return max(s-1,0)\n",
    "\n",
    "def update_w(w):\n",
    "    if np.random.rand() < abs(w - 100) / 100.0:\n",
    "        return w - 1 if w > 100 else w + 1\n",
    "    else:\n",
    "        return w + 1 if w > 100 else w - 1\n",
    "\n",
    "def find_closest(array, value):\n",
    "    array = np.asarray(array)\n",
    "    idx = (np.abs(array - value)).argmin()\n",
    "    return array[idx]\n",
    "\n",
    "w_values = np.arange(50, 200, 1)  # possible values for w\n",
    "\n",
    "lead=15 \n",
    "Arrivalprob=0.3 \n",
    "distance=20\n",
    "T=1000\n",
    "actions=np.linspace(0.5,2,20)\n",
    "\n",
    "States=np.arange(lead+2*distance+1)\n",
    "V={} \n",
    "P={} \n",
    "\n",
    "for s in States:\n",
    "    for w in w_values:\n",
    "        V[(T,s,w)]=0\n",
    "\n",
    "for t in range(T-1,-1,-1):\n",
    "    for s in States: \n",
    "        for w in w_values:\n",
    "            w_updated = update_w(w)\n",
    "            w_updated = find_closest(w_values, w_updated)\n",
    "            bestvalue=0\n",
    "            if s>lead: \n",
    "                V[(t,s,w)]=V[(t+1,stateTransition(s,0, w_updated, distance), w_updated)]\n",
    "                P[(t,s,w)]=0\n",
    "                continue\n",
    "            for a in actions:\n",
    "                opportunityCost=V[(t+1,stateTransition(s,0, w_updated, distance), w_updated)]-V[(t+1,stateTransition(s,1, w_updated, distance), w_updated)]\n",
    "                value=V[(t+1,stateTransition(s,0, w_updated, distance), w_updated)]+Arrivalprob*winprob(a)*(a*w-opportunityCost)\n",
    "                if value>=bestvalue:\n",
    "                    bestvalue=value\n",
    "                    V[(t,s,w)]=value\n",
    "                    P[(t,s,w)]=a\n",
    "\n"
   ]
  },
  {
   "attachments": {},
   "cell_type": "markdown",
   "metadata": {},
   "source": [
    "## Variable steps for W no bounds"
   ]
  },
  {
   "cell_type": "code",
   "execution_count": 13,
   "metadata": {},
   "outputs": [],
   "source": [
    "import numpy as np\n",
    "\n",
    "def winprob(a):\n",
    "    return 1/(1+np.exp(-3+3*a))\n",
    "\n",
    "def stateTransition(s, win, w, distance): \n",
    "    if win:\n",
    "        return lead + 2*distance\n",
    "    return max(s-1,0)\n",
    "\n",
    "def update_w(w):\n",
    "    step_sizes = np.array([1, 3, 5])\n",
    "    probabilities = np.array([0.5, 0.3, 0.2])\n",
    "    step_size = np.random.choice(step_sizes, p=probabilities)\n",
    "\n",
    "    if np.random.rand() < abs(w - 100) / 100.0:\n",
    "        return w - step_size if w > 100 else w + step_size\n",
    "    else:\n",
    "        return w + step_size if w > 100 else w - step_size\n",
    "\n",
    "\n",
    "def find_closest(array, value):\n",
    "    array = np.asarray(array)\n",
    "    idx = (np.abs(array - value)).argmin()\n",
    "    return array[idx]\n",
    "\n",
    "w_values = np.arange(0, 400)  # possible values for w, might need to fix this\n",
    "\n",
    "lead=15 \n",
    "Arrivalprob=0.3 \n",
    "distance=20\n",
    "T=1000\n",
    "actions=np.linspace(0.5,2,20)\n",
    "\n",
    "States=np.arange(lead+2*distance+1)\n",
    "V={} \n",
    "P={} \n",
    "\n",
    "for s in States:\n",
    "    for w in w_values:\n",
    "        V[(T,s,w)]=0\n",
    "\n",
    "for t in range(T-1,-1,-1):\n",
    "    for s in States: \n",
    "        for w in w_values:\n",
    "            w_updated = update_w(w)\n",
    "            w_updated = find_closest(w_values, w_updated)\n",
    "            bestvalue=0\n",
    "            if s>lead: \n",
    "                V[(t,s,w)]=V[(t+1,stateTransition(s,0, w_updated, distance), w_updated)]\n",
    "                P[(t,s,w)]=0\n",
    "                continue\n",
    "            for a in actions:\n",
    "                opportunityCost=V[(t+1,stateTransition(s,0, w_updated, distance), w_updated)]-V[(t+1,stateTransition(s,1, w_updated, distance), w_updated)]\n",
    "                value=V[(t+1,stateTransition(s,0, w_updated, distance), w_updated)]+Arrivalprob*winprob(a)*(a*w-opportunityCost)\n",
    "                if value>=bestvalue:\n",
    "                    bestvalue=value\n",
    "                    V[(t,s,w)]=value\n",
    "                    P[(t,s,w)]=a"
   ]
  },
  {
   "attachments": {},
   "cell_type": "markdown",
   "metadata": {},
   "source": [
    "## Variable steps for W with bounds"
   ]
  },
  {
   "cell_type": "code",
   "execution_count": 14,
   "metadata": {},
   "outputs": [],
   "source": [
    "import numpy as np\n",
    "\n",
    "def winprob(a):\n",
    "    return 1/(1+np.exp(-3+3*a))\n",
    "\n",
    "def stateTransition(s, win, w, distance): \n",
    "    if win:\n",
    "        return lead + 2*distance\n",
    "    return max(s-1,0)\n",
    "\n",
    "def update_w(w):\n",
    "    step_sizes = np.array([1, 3, 5])\n",
    "    probabilities = np.array([0.5, 0.3, 0.2])\n",
    "    step_size = np.random.choice(step_sizes, p=probabilities)\n",
    "\n",
    "    if np.random.rand() < abs(w - 100) / 100.0:\n",
    "        return max(w - step_size, 50) if w > 100 else min(w + step_size, 200)\n",
    "    else:\n",
    "        return min(w + step_size, 200) if w > 100 else max(w - step_size, 50)\n",
    "    \n",
    "def find_closest(array, value):\n",
    "    array = np.asarray(array)\n",
    "    idx = (np.abs(array - value)).argmin()\n",
    "    return array[idx]\n",
    "\n",
    "w_values = np.arange(50, 200)  # possible values for w\n",
    "\n",
    "lead=15 \n",
    "Arrivalprob=0.3 \n",
    "distance=20\n",
    "T=1000\n",
    "actions=np.linspace(0.5,2,20)\n",
    "\n",
    "States=np.arange(lead+2*distance+1)\n",
    "V={} \n",
    "P={} \n",
    "\n",
    "for s in States:\n",
    "    for w in w_values:\n",
    "        V[(T,s,w)]=0\n",
    "\n",
    "for t in range(T-1,-1,-1):\n",
    "    for s in States: \n",
    "        for w in w_values:\n",
    "            w_updated = update_w(w)\n",
    "            w_updated = find_closest(w_values, w_updated)\n",
    "            bestvalue=0\n",
    "            if s>lead: \n",
    "                V[(t,s,w)]=V[(t+1,stateTransition(s,0, w_updated, distance), w_updated)]\n",
    "                P[(t,s,w)]=0\n",
    "                continue\n",
    "            for a in actions:\n",
    "                opportunityCost=V[(t+1,stateTransition(s,0, w_updated, distance), w_updated)]-V[(t+1,stateTransition(s,1, w_updated, distance), w_updated)]\n",
    "                value=V[(t+1,stateTransition(s,0, w_updated, distance), w_updated)]+Arrivalprob*winprob(a)*(a*w-opportunityCost)\n",
    "                if value>=bestvalue:\n",
    "                    bestvalue=value\n",
    "                    V[(t,s,w)]=value\n",
    "                    P[(t,s,w)]=a\n"
   ]
  },
  {
   "attachments": {},
   "cell_type": "markdown",
   "metadata": {},
   "source": [
    "# 2 Vessels"
   ]
  },
  {
   "cell_type": "code",
   "execution_count": 15,
   "metadata": {},
   "outputs": [
    {
     "ename": "KeyboardInterrupt",
     "evalue": "",
     "output_type": "error",
     "traceback": [
      "\u001b[1;31m---------------------------------------------------------------------------\u001b[0m",
      "\u001b[1;31mKeyboardInterrupt\u001b[0m                         Traceback (most recent call last)",
      "Cell \u001b[1;32mIn[15], line 47\u001b[0m\n\u001b[0;32m     45\u001b[0m \u001b[39mfor\u001b[39;00m s2 \u001b[39min\u001b[39;00m States:\n\u001b[0;32m     46\u001b[0m     \u001b[39mfor\u001b[39;00m w \u001b[39min\u001b[39;00m w_values:\n\u001b[1;32m---> 47\u001b[0m         w_updated \u001b[39m=\u001b[39m update_w(w)\n\u001b[0;32m     48\u001b[0m         w_updated \u001b[39m=\u001b[39m find_closest(w_values, w_updated)\n\u001b[0;32m     49\u001b[0m         bestvalue\u001b[39m=\u001b[39m\u001b[39m0\u001b[39m\n",
      "Cell \u001b[1;32mIn[15], line 14\u001b[0m, in \u001b[0;36mupdate_w\u001b[1;34m(w)\u001b[0m\n\u001b[0;32m     12\u001b[0m step_sizes \u001b[39m=\u001b[39m np\u001b[39m.\u001b[39marray([\u001b[39m1\u001b[39m, \u001b[39m3\u001b[39m, \u001b[39m5\u001b[39m])\n\u001b[0;32m     13\u001b[0m probabilities \u001b[39m=\u001b[39m np\u001b[39m.\u001b[39marray([\u001b[39m0.5\u001b[39m, \u001b[39m0.3\u001b[39m, \u001b[39m0.2\u001b[39m])\n\u001b[1;32m---> 14\u001b[0m step_size \u001b[39m=\u001b[39m np\u001b[39m.\u001b[39;49mrandom\u001b[39m.\u001b[39;49mchoice(step_sizes, p\u001b[39m=\u001b[39;49mprobabilities)\n\u001b[0;32m     16\u001b[0m \u001b[39mif\u001b[39;00m np\u001b[39m.\u001b[39mrandom\u001b[39m.\u001b[39mrand() \u001b[39m<\u001b[39m \u001b[39mabs\u001b[39m(w \u001b[39m-\u001b[39m \u001b[39m100\u001b[39m) \u001b[39m/\u001b[39m \u001b[39m100.0\u001b[39m:\n\u001b[0;32m     17\u001b[0m     \u001b[39mreturn\u001b[39;00m \u001b[39mmax\u001b[39m(w \u001b[39m-\u001b[39m step_size, \u001b[39m50\u001b[39m) \u001b[39mif\u001b[39;00m w \u001b[39m>\u001b[39m \u001b[39m100\u001b[39m \u001b[39melse\u001b[39;00m \u001b[39mmin\u001b[39m(w \u001b[39m+\u001b[39m step_size, \u001b[39m200\u001b[39m)\n",
      "\u001b[1;31mKeyboardInterrupt\u001b[0m: "
     ]
    }
   ],
   "source": [
    "import numpy as np\n",
    "\n",
    "def winprob(a):\n",
    "    return 1/(1+np.exp(-3+3*a))\n",
    "\n",
    "def stateTransition(s, win, w, distance): \n",
    "    if win:\n",
    "        return lead + 2*distance\n",
    "    return max(s-1,0)\n",
    "\n",
    "def update_w(w):\n",
    "    step_sizes = np.array([1, 3, 5])\n",
    "    probabilities = np.array([0.5, 0.3, 0.2])\n",
    "    step_size = np.random.choice(step_sizes, p=probabilities)\n",
    "\n",
    "    if np.random.rand() < abs(w - 100) / 100.0:\n",
    "        return max(w - step_size, 50) if w > 100 else min(w + step_size, 200)\n",
    "    else:\n",
    "        return min(w + step_size, 200) if w > 100 else max(w - step_size, 50)\n",
    "    \n",
    "def find_closest(array, value):\n",
    "    array = np.asarray(array)\n",
    "    idx = (np.abs(array - value)).argmin()\n",
    "    return array[idx]\n",
    "\n",
    "w_values = np.arange(50, 200)  # possible values for w\n",
    "\n",
    "lead=15 \n",
    "Arrivalprob=0.3 \n",
    "distance=20\n",
    "T=1000\n",
    "actions=np.linspace(0.5,2,20)\n",
    "\n",
    "States=np.arange(lead+2*distance+1)\n",
    "V={} \n",
    "P={} \n",
    "\n",
    "for s1 in States:\n",
    "    for s2 in States:\n",
    "        for w in w_values:\n",
    "            V[(T,s1,s2,w)]=0\n",
    "\n",
    "for t in range(T-1,-1,-1):\n",
    "    for s1 in States: \n",
    "        for s2 in States:\n",
    "            for w in w_values:\n",
    "                w_updated = update_w(w)\n",
    "                w_updated = find_closest(w_values, w_updated)\n",
    "                bestvalue=0\n",
    "                if s1>lead and s2>lead: \n",
    "                    V[(t,s1,s2,w)]=V[(t+1,stateTransition(s1,0, w_updated, distance),stateTransition(s2,0, w_updated, distance), w_updated)]\n",
    "                    P[(t,s1,s2,w)]=0\n",
    "                    continue\n",
    "                for a in actions:\n",
    "                    opportunityCost=V[(t+1,stateTransition(s1,0, w_updated, distance),stateTransition(s2,0, w_updated, distance), w_updated)]-V[(t+1,stateTransition(s1,1, w_updated, distance),stateTransition(s2,1, w_updated, distance), w_updated)]\n",
    "                    value=V[(t+1,stateTransition(s1,0, w_updated, distance),stateTransition(s2,0, w_updated, distance), w_updated)]+Arrivalprob*winprob(a)*(a*w-opportunityCost)\n",
    "                    if value>=bestvalue:\n",
    "                        bestvalue=value\n",
    "                        V[(t,s1,s2,w)]=value\n",
    "                        P[(t,s1,s2,w)]=a\n"
   ]
  },
  {
   "attachments": {},
   "cell_type": "markdown",
   "metadata": {},
   "source": [
    "# 2 Destination Ports"
   ]
  },
  {
   "cell_type": "code",
   "execution_count": null,
   "metadata": {},
   "outputs": [],
   "source": []
  },
  {
   "attachments": {},
   "cell_type": "markdown",
   "metadata": {},
   "source": [
    "# 2 Vessels 2 Destination Ports"
   ]
  },
  {
   "cell_type": "code",
   "execution_count": null,
   "metadata": {},
   "outputs": [],
   "source": []
  },
  {
   "attachments": {},
   "cell_type": "markdown",
   "metadata": {},
   "source": [
    "# Full Code"
   ]
  },
  {
   "cell_type": "code",
   "execution_count": null,
   "metadata": {},
   "outputs": [],
   "source": []
  }
 ],
 "metadata": {
  "kernelspec": {
   "display_name": "Python 3",
   "language": "python",
   "name": "python3"
  },
  "language_info": {
   "codemirror_mode": {
    "name": "ipython",
    "version": 3
   },
   "file_extension": ".py",
   "mimetype": "text/x-python",
   "name": "python",
   "nbconvert_exporter": "python",
   "pygments_lexer": "ipython3",
   "version": "3.11.1"
  },
  "orig_nbformat": 4
 },
 "nbformat": 4,
 "nbformat_minor": 2
}
