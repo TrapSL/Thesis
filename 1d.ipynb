{
 "cells": [
  {
   "attachments": {},
   "cell_type": "markdown",
   "metadata": {},
   "source": [
    "# Fibonacci"
   ]
  },
  {
   "cell_type": "code",
   "execution_count": 3,
   "metadata": {},
   "outputs": [
    {
     "name": "stdout",
     "output_type": "stream",
     "text": [
      "Fibonacci(0) = 0\n",
      "Fibonacci(1) = 1\n",
      "Fibonacci(2) = 1\n",
      "Fibonacci(3) = 2\n",
      "Fibonacci(4) = 3\n",
      "Fibonacci(5) = 5\n",
      "Fibonacci(6) = 8\n",
      "Fibonacci(7) = 13\n",
      "Fibonacci(8) = 21\n",
      "Fibonacci(9) = 34\n",
      "Fibonacci(10) = 55\n",
      "Fibonacci(11) = 89\n",
      "Fibonacci(12) = 144\n",
      "Fibonacci(13) = 233\n",
      "Fibonacci(14) = 377\n",
      "Fibonacci(15) = 610\n",
      "Fibonacci(16) = 987\n",
      "Fibonacci(17) = 1597\n",
      "Fibonacci(18) = 2584\n",
      "Fibonacci(19) = 4181\n",
      "Fibonacci(20) = 6765\n"
     ]
    },
    {
     "data": {
      "image/png": "[encoded data removed]",
      "text/plain": [
       "<Figure size 640x480 with 1 Axes>"
      ]
     },
     "metadata": {},
     "output_type": "display_data"
    }
   ],
   "source": [
    "from fibonacci import fibonacci\n",
    "import time\n",
    "import matplotlib.pyplot as plt\n",
    "\n",
    "calculated = {}\n",
    "\n",
    "def fib(n):\n",
    "  if n == 0: # base case 1\n",
    "    return 0\n",
    "  if n == 1: # base case 2\n",
    "    return 1\n",
    "  elif n in calculated:\n",
    "    return calculated[n]\n",
    "  else: # recursive step\n",
    "    calculated[n] = fib(n-1) + fib(n-2)\n",
    "    return calculated[n]\n",
    "\n",
    "showNumbers = False\n",
    "numbers = 20\n",
    "\n",
    "x = []\n",
    "y = []\n",
    "\n",
    "# Calculate and store Fibonacci numbers\n",
    "for i in range(numbers + 1):\n",
    "    fib_result = fib(i)\n",
    "    print(f\"Fibonacci({i}) = {fib_result}\")\n",
    "    x.append(i)\n",
    "    y.append(fib_result)\n",
    "\n",
    "plt.scatter(x, y)\n",
    "plt.xlabel(\"Number\")\n",
    "plt.ylabel(\"Fibonacci\")\n",
    "plt.title(\"Fibonacci Sequence\")\n",
    "\n",
    "if showNumbers:\n",
    "    for i, j in zip(x, y):\n",
    "        plt.annotate(str(j), (i, j), textcoords=\"offset points\", xytext=(0,10), ha='center')\n",
    "\n",
    "plt.show()"
   ]
  },
  {
   "attachments": {},
   "cell_type": "markdown",
   "metadata": {},
   "source": [
    "Bottom up vs Top down"
   ]
  },
  {
   "cell_type": "code",
   "execution_count": 4,
   "metadata": {},
   "outputs": [
    {
     "name": "stdout",
     "output_type": "stream",
     "text": [
      "354224848179261915075\n"
     ]
    }
   ],
   "source": [
    "#botton up\n",
    "def fib(n):\n",
    "  if n == 0:\n",
    "    return 0\n",
    "  if n == 1:\n",
    "    return 1\n",
    "  # table for tabulation\n",
    "  table = [None] * (n+1) \n",
    "  table[0] = 0        # base case 1, fib(0) = 0\n",
    "  table[1] = 1        # base case 2, fib(1) = 1\n",
    "  # filling up tabulation table starting from 2 and going upto n\n",
    "  for i in range(2,n+1):  \n",
    "    # we have result of i-1 and i-2 available because these had been evaluated already\n",
    "    table[i] = table[i-1] + table[i-2]  \n",
    "  # return the value of n in tabulation table\n",
    "  return table[n]    \n",
    "\n",
    "print(fib(100))"
   ]
  },
  {
   "cell_type": "code",
   "execution_count": 5,
   "metadata": {},
   "outputs": [
    {
     "name": "stdout",
     "output_type": "stream",
     "text": [
      "354224848179261915075\n"
     ]
    }
   ],
   "source": [
    "memo = {} #dictionay for Memoization\n",
    "\n",
    "def fib(n):\n",
    "  if n == 0: # base case 1\n",
    "    return 0\n",
    "  if n == 1: # base case 2\n",
    "    return 1\n",
    "  elif n in memo: # Check if result for n has already been evaluated\n",
    "    return memo[n] # return the result if it is available\n",
    "  else: # otherwise recursive step\n",
    "    memo[n] = fib(n-1) + fib(n-2) # store the result of n in memoization dictionary\n",
    "    return memo[n] # return the value\n",
    "\n",
    "print (fib(100))"
   ]
  },
  {
   "attachments": {},
   "cell_type": "markdown",
   "metadata": {},
   "source": [
    "# Knapsack"
   ]
  },
  {
   "cell_type": "code",
   "execution_count": 6,
   "metadata": {},
   "outputs": [
    {
     "name": "stdout",
     "output_type": "stream",
     "text": [
      "18\n"
     ]
    }
   ],
   "source": [
    "def solveKnapsack(weights, prices, capacity, index, memo):\n",
    "  # base case of when we have run out of capacity or objects\n",
    "  if capacity <= 0 or index >= len(weights): \n",
    "    return 0\n",
    "  # check for solution in memo table\n",
    "  if (capacity, index) in memo: \n",
    "    return memo[(capacity, index)]\n",
    "  # if weight at index-th position is greater than capacity, skip this object\n",
    "  if weights[index] > capacity: \n",
    "    # store result in memo table\n",
    "    memo[(capacity, index)] = solveKnapsack(weights, prices, capacity, index + 1, memo) \n",
    "    return memo[(capacity, index)] \n",
    "  # recursive call, either we can include the index-th object or we cannot, we check both possibilities and return the most optimal one using max\n",
    "  memo[(capacity, index)] = max(prices[index]+solveKnapsack(weights, prices, capacity - weights[index], index+1, memo),\n",
    "        solveKnapsack(weights, prices, capacity, index + 1, memo)) \n",
    "  return memo[(capacity, index)]\n",
    "\n",
    "def knapsack(weights, prices, capacity):\n",
    "  # create a memo dictionary\n",
    "  memo = {} \n",
    "  return solveKnapsack(weights, prices, capacity, 0, memo)\n",
    "\n",
    "print(knapsack([2,1,1,3], [2,8,1,10], 4))"
   ]
  },
  {
   "attachments": {},
   "cell_type": "markdown",
   "metadata": {},
   "source": [
    "# Coin change"
   ]
  },
  {
   "cell_type": "code",
   "execution_count": 8,
   "metadata": {},
   "outputs": [
    {
     "name": "stdout",
     "output_type": "stream",
     "text": [
      "4\n"
     ]
    }
   ],
   "source": [
    "def countways(bills, amount):\n",
    "  if amount <= 0:\n",
    "    return 0\n",
    "  dp = [[1 for _ in range(len(bills))] for _ in range(amount + 1)]\n",
    "  for amt in range(1, amount+1):\n",
    "    for j in range(len(bills)):\n",
    "      bill = bills[j]\n",
    "      if amt - bill >= 0:\n",
    "        x = dp[amt - bill][j]\n",
    "      else:\n",
    "        x = 0\n",
    "      if j >= 1:\n",
    "        y = dp[amt][j-1]\n",
    "      else:\n",
    "        y = 0\n",
    "      dp[amt][j] = x + y\n",
    "  return dp[amount][len(bills) - 1]\n",
    "\n",
    "print(countways([1,2,5], 5))"
   ]
  },
  {
   "attachments": {},
   "cell_type": "markdown",
   "metadata": {},
   "source": [
    "# longest inc seq"
   ]
  },
  {
   "cell_type": "code",
   "execution_count": 13,
   "metadata": {},
   "outputs": [
    {
     "name": "stdout",
     "output_type": "stream",
     "text": [
      "Length: 5\n",
      "Subsequence: [10, 22, 33, 41, 60]\n"
     ]
    }
   ],
   "source": [
    "def longest_increasing_subsequence(nums):\n",
    "    n = len(nums)\n",
    "    # Initialize an array to store the lengths of increasing subsequences\n",
    "    lengths = [1] * n\n",
    "\n",
    "    # Compute the lengths of increasing subsequences\n",
    "    for i in range(1, n):\n",
    "        for j in range(i):\n",
    "            if nums[i] > nums[j]:\n",
    "                lengths[i] = max(lengths[i], lengths[j] + 1)\n",
    "\n",
    "    # Find the maximum length\n",
    "    max_length = max(lengths)\n",
    "\n",
    "    # Find the subsequence with the maximum length\n",
    "    subsequence = []\n",
    "    curr_length = max_length\n",
    "    for i in range(n - 1, -1, -1):\n",
    "        if lengths[i] == curr_length:\n",
    "            subsequence.append(nums[i])\n",
    "            curr_length -= 1\n",
    "            if curr_length == 0:\n",
    "                break\n",
    "\n",
    "    subsequence.reverse()\n",
    "\n",
    "    return max_length, subsequence\n",
    "\n",
    "nums = [10, 22, 9, 33, 21, 50, 41, 60]\n",
    "length, subsequence = longest_increasing_subsequence(nums)\n",
    "print(\"Length:\", length)\n",
    "print(\"Subsequence:\", subsequence)"
   ]
  },
  {
   "attachments": {},
   "cell_type": "markdown",
   "metadata": {},
   "source": [
    "# N ways stairs"
   ]
  },
  {
   "cell_type": "code",
   "execution_count": 15,
   "metadata": {},
   "outputs": [
    {
     "name": "stdout",
     "output_type": "stream",
     "text": [
      "Number of ways to reach 4 stairs: 5\n"
     ]
    }
   ],
   "source": [
    "def count_ways(n):\n",
    "    # Initialize the base cases for n = 0 and n = 1\n",
    "    if n <= 2:\n",
    "        return 1\n",
    "\n",
    "    # Initialize an array to store the number of ways to reach each stair\n",
    "    ways = [0] * (n + 1)\n",
    "\n",
    "    # Set the base cases\n",
    "    ways[0] = 1\n",
    "    ways[1] = 1\n",
    "\n",
    "    # Compute the number of ways for each stair\n",
    "    for i in range(2, n + 1):\n",
    "        ways[i] = ways[i - 1] + ways[i - 2]\n",
    "\n",
    "    return ways[n]\n",
    "\n",
    "n = 4\n",
    "ways = count_ways(n)\n",
    "print(\"Number of ways to reach\", n, \"stairs:\", ways)"
   ]
  },
  {
   "attachments": {},
   "cell_type": "markdown",
   "metadata": {},
   "source": [
    "# N combs"
   ]
  },
  {
   "cell_type": "code",
   "execution_count": 16,
   "metadata": {},
   "outputs": [
    {
     "name": "stdout",
     "output_type": "stream",
     "text": [
      "Number of combinations: 7\n"
     ]
    }
   ],
   "source": [
    "def combination_sum(nums, target):\n",
    "    # Initialize an array to store the number of combinations for each target sum\n",
    "    combinations = [0] * (target + 1)\n",
    "\n",
    "    # There is one way to make a sum of 0, which is by not choosing any number\n",
    "    combinations[0] = 1\n",
    "\n",
    "    # Compute the number of combinations for each target sum\n",
    "    for i in range(1, target + 1):\n",
    "        for num in nums:\n",
    "            if i >= num:\n",
    "                combinations[i] += combinations[i - num]\n",
    "\n",
    "    return combinations[target]\n",
    "\n",
    "\n",
    "nums = [1, 2, 3]\n",
    "target = 4\n",
    "num_combinations = combination_sum(nums, target)\n",
    "print(\"Number of combinations:\", num_combinations)"
   ]
  },
  {
   "attachments": {},
   "cell_type": "markdown",
   "metadata": {},
   "source": [
    "# HR 1"
   ]
  },
  {
   "cell_type": "code",
   "execution_count": 17,
   "metadata": {},
   "outputs": [
    {
     "name": "stdout",
     "output_type": "stream",
     "text": [
      "Maximum amount of money: 4\n"
     ]
    }
   ],
   "source": [
    "def rob(nums):\n",
    "    n = len(nums)\n",
    "    if n == 0:\n",
    "        return 0\n",
    "    if n == 1:\n",
    "        return nums[0]\n",
    "\n",
    "    # Initialize an array to store the maximum stolen value for each house\n",
    "    dp = [0] * n\n",
    "\n",
    "    # Set the base cases for the first two houses\n",
    "    dp[0] = nums[0]\n",
    "    dp[1] = max(nums[0], nums[1])\n",
    "\n",
    "    # Compute the maximum stolen value for each house\n",
    "    for i in range(2, n):\n",
    "        dp[i] = max(dp[i - 1], dp[i - 2] + nums[i])\n",
    "\n",
    "    return dp[-1]\n",
    "\n",
    "nums = [1, 2, 3, 1]\n",
    "max_money = rob(nums)\n",
    "print(\"Maximum amount of money:\", max_money)"
   ]
  },
  {
   "attachments": {},
   "cell_type": "markdown",
   "metadata": {},
   "source": [
    "# HR2"
   ]
  },
  {
   "cell_type": "code",
   "execution_count": 18,
   "metadata": {},
   "outputs": [
    {
     "name": "stdout",
     "output_type": "stream",
     "text": [
      "Maximum amount of money: 3\n"
     ]
    }
   ],
   "source": [
    "def rob(nums):\n",
    "    def rob_helper(nums):\n",
    "        n = len(nums)\n",
    "        if n == 0:\n",
    "            return 0\n",
    "        if n == 1:\n",
    "            return nums[0]\n",
    "\n",
    "        # Initialize an array to store the maximum stolen value for each house\n",
    "        dp = [0] * n\n",
    "\n",
    "        # Set the base cases for the first two houses\n",
    "        dp[0] = nums[0]\n",
    "        dp[1] = max(nums[0], nums[1])\n",
    "\n",
    "        # Compute the maximum stolen value for each house\n",
    "        for i in range(2, n):\n",
    "            dp[i] = max(dp[i - 1], dp[i - 2] + nums[i])\n",
    "\n",
    "        return dp[-1]\n",
    "\n",
    "    if len(nums) == 0:\n",
    "        return 0\n",
    "    if len(nums) == 1:\n",
    "        return nums[0]\n",
    "\n",
    "    # Calculate the maximum amount when considering the first house\n",
    "    max_amount1 = rob_helper(nums[:-1])\n",
    "\n",
    "    # Calculate the maximum amount when considering the last house\n",
    "    max_amount2 = rob_helper(nums[1:])\n",
    "\n",
    "    # Return the maximum of the two amounts\n",
    "    return max(max_amount1, max_amount2)\n",
    "\n",
    "nums = [2, 3, 2]\n",
    "max_money = rob(nums)\n",
    "print(\"Maximum amount of money:\", max_money)"
   ]
  },
  {
   "attachments": {},
   "cell_type": "markdown",
   "metadata": {},
   "source": [
    "# Decode ways"
   ]
  },
  {
   "cell_type": "code",
   "execution_count": 19,
   "metadata": {},
   "outputs": [
    {
     "name": "stdout",
     "output_type": "stream",
     "text": [
      "Number of decodings: 3\n"
     ]
    }
   ],
   "source": [
    "def numDecodings(s):\n",
    "    n = len(s)\n",
    "\n",
    "    # Base case: an empty string has one decoding\n",
    "    dp = [0] * (n + 1)\n",
    "    dp[0] = 1\n",
    "\n",
    "    # A string of length 1 can be decoded if it is not '0'\n",
    "    dp[1] = 1 if s[0] != '0' else 0\n",
    "\n",
    "    # Compute the number of decodings for the remaining characters\n",
    "    for i in range(2, n + 1):\n",
    "        # Check if single digit can be decoded\n",
    "        if s[i - 1] != '0':\n",
    "            dp[i] += dp[i - 1]\n",
    "\n",
    "        # Check if two digits can be decoded\n",
    "        two_digit = int(s[i - 2:i])\n",
    "        if 10 <= two_digit <= 26:\n",
    "            dp[i] += dp[i - 2]\n",
    "\n",
    "    return dp[n]\n",
    "\n",
    "s = \"226\"\n",
    "num_decodings = numDecodings(s)\n",
    "print(\"Number of decodings:\", num_decodings)"
   ]
  },
  {
   "attachments": {},
   "cell_type": "markdown",
   "metadata": {},
   "source": [
    "# Unique ways"
   ]
  },
  {
   "cell_type": "code",
   "execution_count": 20,
   "metadata": {},
   "outputs": [
    {
     "name": "stdout",
     "output_type": "stream",
     "text": [
      "Number of unique paths: 28\n"
     ]
    }
   ],
   "source": [
    "def uniquePaths(m, n):\n",
    "    # Create a 2D grid to store the number of unique paths\n",
    "    dp = [[0] * n for _ in range(m)]\n",
    "\n",
    "    # There is only one way to reach any cell in the first row or first column\n",
    "    for i in range(m):\n",
    "        dp[i][0] = 1\n",
    "    for j in range(n):\n",
    "        dp[0][j] = 1\n",
    "\n",
    "    # Compute the number of unique paths for each cell\n",
    "    for i in range(1, m):\n",
    "        for j in range(1, n):\n",
    "            dp[i][j] = dp[i - 1][j] + dp[i][j - 1]\n",
    "\n",
    "    return dp[m - 1][n - 1]\n",
    "\n",
    "\n",
    "m = 3\n",
    "n = 7\n",
    "num_paths = uniquePaths(m, n)\n",
    "print(\"Number of unique paths:\", num_paths)"
   ]
  },
  {
   "attachments": {},
   "cell_type": "markdown",
   "metadata": {},
   "source": [
    "# Jump game"
   ]
  },
  {
   "cell_type": "code",
   "execution_count": 21,
   "metadata": {},
   "outputs": [
    {
     "name": "stdout",
     "output_type": "stream",
     "text": [
      "Can reach the end: True\n"
     ]
    }
   ],
   "source": [
    "def canJump(nums):\n",
    "    n = len(nums)\n",
    "\n",
    "    # Initialize a boolean array to store whether each index is reachable\n",
    "    dp = [False] * n\n",
    "\n",
    "    # The last index is always reachable\n",
    "    dp[n - 1] = True\n",
    "\n",
    "    # Starting from the second-to-last index, determine if each index is reachable\n",
    "    for i in range(n - 2, -1, -1):\n",
    "        furthest_jump = min(i + nums[i], n - 1)\n",
    "        for j in range(i + 1, furthest_jump + 1):\n",
    "            if dp[j]:\n",
    "                dp[i] = True\n",
    "                break\n",
    "\n",
    "    return dp[0]\n",
    "\n",
    "\n",
    "nums = [2, 3, 1, 1, 4]\n",
    "can_reach_end = canJump(nums)\n",
    "print(\"Can reach the end:\", can_reach_end)"
   ]
  },
  {
   "attachments": {},
   "cell_type": "markdown",
   "metadata": {},
   "source": [
    "# Word break"
   ]
  },
  {
   "cell_type": "code",
   "execution_count": 22,
   "metadata": {},
   "outputs": [
    {
     "name": "stdout",
     "output_type": "stream",
     "text": [
      "Can segment the string: True\n"
     ]
    }
   ],
   "source": [
    "def wordBreak(s, wordDict):\n",
    "    n = len(s)\n",
    "\n",
    "    # Create a boolean array to store whether each prefix of s can be segmented\n",
    "    dp = [False] * (n + 1)\n",
    "    dp[0] = True\n",
    "\n",
    "    # Iterate through each index in s\n",
    "    for i in range(1, n + 1):\n",
    "        # Check if any prefix of s can be segmented\n",
    "        for j in range(i):\n",
    "            if dp[j] and s[j:i] in wordDict:\n",
    "                dp[i] = True\n",
    "                break\n",
    "\n",
    "    return dp[n]\n",
    "\n",
    "s = \"leetcode\"\n",
    "wordDict = [\"leet\", \"code\"]\n",
    "can_segment = wordBreak(s, wordDict)\n",
    "print(\"Can segment the string:\", can_segment)"
   ]
  }
 ],
 "metadata": {
  "kernelspec": {
   "display_name": "Python 3",
   "language": "python",
   "name": "python3"
  },
  "language_info": {
   "codemirror_mode": {
    "name": "ipython",
    "version": 3
   },
   "file_extension": ".py",
   "mimetype": "text/x-python",
   "name": "python",
   "nbconvert_exporter": "python",
   "pygments_lexer": "ipython3",
   "version": "3.11.1"
  },
  "orig_nbformat": 4
 },
 "nbformat": 4,
 "nbformat_minor": 2
}
